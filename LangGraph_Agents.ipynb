{
 "cells": [
  {
   "cell_type": "markdown",
   "id": "50e9dacd",
   "metadata": {},
   "source": [
    "# LangGraph"
   ]
  },
  {
   "cell_type": "code",
   "execution_count": 2,
   "id": "da4adea8",
   "metadata": {},
   "outputs": [],
   "source": [
    "import ollama\n",
    "from typing import TypedDict, List, Dict, Any, Optional\n",
    "from langgraph.graph import StateGraph, START, END"
   ]
  },
  {
   "cell_type": "code",
   "execution_count": 5,
   "id": "baa25003",
   "metadata": {},
   "outputs": [],
   "source": [
    "class EmailState(TypedDict):\n",
    "    # The email being processed\n",
    "    email: Dict[str, Any]  # Contains subject, sender, body, etc.\n",
    "\n",
    "    # Category of the email (inquiry, complaint, etc.)\n",
    "    email_category: Optional[str]\n",
    "\n",
    "    # Reason why the email was marked as spam\n",
    "    spam_reason: Optional[str]\n",
    "\n",
    "    # Analysis and decisions\n",
    "    is_spam: Optional[bool]\n",
    "    \n",
    "    # Response generation\n",
    "    email_draft: Optional[str]\n",
    "    \n",
    "    # Processing metadata\n",
    "    messages: List[Dict[str, Any]]  # Track conversation with LLM for analysis"
   ]
  },
  {
   "cell_type": "code",
   "execution_count": 42,
   "id": "39a287e4",
   "metadata": {},
   "outputs": [],
   "source": [
    "# Initialize our LLM\n",
    "model = \"llama3.2\"\n",
    "\n",
    "def read_email(state: EmailState):\n",
    "    \"\"\"Alfred reads and logs the incoming email\"\"\"\n",
    "    email = state[\"email\"]\n",
    "    \n",
    "    # Here we might do some initial preprocessing\n",
    "    print(f\"Alfred is processing an email from {email['sender']} with subject: {email['subject']}\")\n",
    "    \n",
    "    # No state changes needed here\n",
    "    return {}\n",
    "\n",
    "def classify_email(state: EmailState):\n",
    "    \"\"\"Alfred uses an LLM to determine if the email is spam or legitimate\"\"\"\n",
    "    email = state[\"email\"]\n",
    "    \n",
    "    # Prepare our prompt for the LLM\n",
    "    prompt = f\"\"\"\n",
    "    As Alfred the butler, analyze this email and determine if it is spam or legitimate.\n",
    "    \n",
    "    Email:\n",
    "    From: {email['sender']}\n",
    "    Subject: {email['subject']}\n",
    "    Body: {email['body']}\n",
    "    \n",
    "    First, determine if this email is spam. If it is spam, explain why.\n",
    "    If it is legitimate, categorize it (inquiry, complaint, thank you, etc.).\n",
    "    \"\"\"\n",
    "    \n",
    "    # Call the LLM\n",
    "    messages = [UserMessage(content=prompt)]\n",
    "    response = ollama.chat(model=model, messages=messages, options={\"temperature\": 0.0})\n",
    "    \n",
    "    # Simple logic to parse the response (in a real app, you'd want more robust parsing)\n",
    "    response_text = response.message.content.lower()\n",
    "    is_spam = \"spam\" in response_text and \"not spam\" not in response_text\n",
    "    \n",
    "    # Extract a reason if it's spam\n",
    "    spam_reason = None\n",
    "    if is_spam and \"reason:\" in response_text:\n",
    "        spam_reason = response_text.split(\"reason:\")[1].strip()\n",
    "    \n",
    "    # Determine category if legitimate\n",
    "    email_category = None\n",
    "    if not is_spam:\n",
    "        categories = [\"inquiry\", \"complaint\", \"thank you\", \"request\", \"information\"]\n",
    "        for category in categories:\n",
    "            if category in response_text:\n",
    "                email_category = category\n",
    "                break\n",
    "    \n",
    "    # Update messages for tracking\n",
    "    new_messages = state.get(\"messages\", []) + [\n",
    "        {\"role\": \"user\", \"content\": prompt},\n",
    "        {\"role\": \"assistant\", \"content\": response.message.content}\n",
    "    ]\n",
    "    \n",
    "    # Return state updates\n",
    "    return {\n",
    "        \"is_spam\": is_spam,\n",
    "        \"spam_reason\": spam_reason,\n",
    "        \"email_category\": email_category,\n",
    "        \"messages\": new_messages\n",
    "    }\n",
    "\n",
    "def handle_spam(state: EmailState):\n",
    "    \"\"\"Alfred discards spam email with a note\"\"\"\n",
    "    print(f\"Alfred has marked the email as spam. Reason: {state['spam_reason']}\")\n",
    "    print(\"The email has been moved to the spam folder.\")\n",
    "    \n",
    "    # We're done processing this email\n",
    "    return {}\n",
    "\n",
    "def draft_response(state: EmailState):\n",
    "    \"\"\"Alfred drafts a preliminary response for legitimate emails\"\"\"\n",
    "    email = state[\"email\"]\n",
    "    category = state[\"email_category\"] or \"general\"\n",
    "    \n",
    "    # Prepare our prompt for the LLM\n",
    "    prompt = f\"\"\"\n",
    "    As Alfred the butler, draft a polite preliminary response to this email.\n",
    "    \n",
    "    Email:\n",
    "    From: {email['sender']}\n",
    "    Subject: {email['subject']}\n",
    "    Body: {email['body']}\n",
    "    \n",
    "    This email has been categorized as: {category}\n",
    "    \n",
    "    Draft a brief, professional response that Mr. Hugg can review and personalize before sending.\n",
    "    \"\"\"\n",
    "    \n",
    "    # Call the LLM\n",
    "    messages = [dict(role=\"user\", content=prompt)]\n",
    "    response = ollama.chat(model=model, messages=messages, options={\"temperature\": 0.0})\n",
    "    \n",
    "    # Update messages for tracking\n",
    "    new_messages = state.get(\"messages\", []) + [\n",
    "        {\"role\": \"user\", \"content\": prompt},\n",
    "        {\"role\": \"assistant\", \"content\": response.message.content}\n",
    "    ]\n",
    "    \n",
    "    # Return state updates\n",
    "    return {\n",
    "        \"email_draft\": response.message.content,\n",
    "        \"messages\": new_messages\n",
    "    }\n",
    "\n",
    "def notify_mr_hugg(state: EmailState):\n",
    "    \"\"\"Alfred notifies Mr. Hugg about the email and presents the draft response\"\"\"\n",
    "    email = state[\"email\"]\n",
    "    \n",
    "    print(\"\\n\" + \"=\"*50)\n",
    "    print(f\"Sir, you've received an email from {email['sender']}.\")\n",
    "    print(f\"Subject: {email['subject']}\")\n",
    "    print(f\"Category: {state['email_category']}\")\n",
    "    print(\"\\nI've prepared a draft response for your review:\")\n",
    "    print(\"-\"*50)\n",
    "    print(state[\"email_draft\"])\n",
    "    print(\"=\"*50 + \"\\n\")\n",
    "    \n",
    "    # We're done processing this email\n",
    "    return {}\n",
    "\n",
    "\n",
    "def route_email(state: EmailState) -> str:\n",
    "    \"\"\"Determine the next step based on spam classification\"\"\"\n",
    "    if state[\"is_spam\"]:\n",
    "        return \"spam\"\n",
    "    else:\n",
    "        return \"legitimate\""
   ]
  },
  {
   "cell_type": "code",
   "execution_count": 43,
   "id": "6ac2089c",
   "metadata": {},
   "outputs": [],
   "source": [
    "# Create the graph\n",
    "email_graph = StateGraph(EmailState)\n",
    "\n",
    "# Add nodes\n",
    "email_graph.add_node(\"read_email\", read_email)\n",
    "email_graph.add_node(\"classify_email\", classify_email)\n",
    "email_graph.add_node(\"handle_spam\", handle_spam)\n",
    "email_graph.add_node(\"draft_response\", draft_response)\n",
    "email_graph.add_node(\"notify_mr_hugg\", notify_mr_hugg)\n",
    "\n",
    "# Start the edges\n",
    "email_graph.add_edge(START, \"read_email\")\n",
    "# Add edges - defining the flow\n",
    "email_graph.add_edge(\"read_email\", \"classify_email\")\n",
    "\n",
    "# Add conditional branching from classify_email\n",
    "email_graph.add_conditional_edges(\n",
    "    \"classify_email\",\n",
    "    route_email,\n",
    "    {\n",
    "        \"spam\": \"handle_spam\",\n",
    "        \"legitimate\": \"draft_response\"\n",
    "    }\n",
    ")\n",
    "\n",
    "# Add the final edges\n",
    "email_graph.add_edge(\"handle_spam\", END)\n",
    "email_graph.add_edge(\"draft_response\", \"notify_mr_hugg\")\n",
    "email_graph.add_edge(\"notify_mr_hugg\", END)\n",
    "\n",
    "# Compile the graph\n",
    "compiled_graph = email_graph.compile()"
   ]
  },
  {
   "cell_type": "code",
   "execution_count": 44,
   "id": "1bc41eb8",
   "metadata": {},
   "outputs": [
    {
     "name": "stdout",
     "output_type": "stream",
     "text": [
      "Alfred is processing an email from john.smith@example.com with subject: Question about your services\n",
      "\n",
      "==================================================\n",
      "Sir, you've received an email from john.smith@example.com.\n",
      "Subject: Question about your services\n",
      "Category: inquiry\n",
      "\n",
      "I've prepared a draft response for your review:\n",
      "--------------------------------------------------\n",
      "Here's a polite preliminary response:\n",
      "\n",
      "Dear Mr. Smith,\n",
      "\n",
      "Thank you for considering my consulting services. I appreciate the referral from your colleague and would be delighted to discuss how I can assist you.\n",
      "\n",
      "I'd be happy to schedule a call at your convenience next week. Please let me know which day and time work best for you, and I'll make sure to adjust my schedule accordingly.\n",
      "\n",
      "In preparation for our conversation, could you kindly provide me with some information about the specific challenges or areas of interest you'd like to explore? This will enable me to tailor our discussion and ensure we make the most of our time together.\n",
      "\n",
      "I look forward to speaking with you soon.\n",
      "\n",
      "Best regards,\n",
      "Alfred Hugg\n",
      "==================================================\n",
      "\n"
     ]
    }
   ],
   "source": [
    "# Example legitimate email\n",
    "legitimate_email = {\n",
    "    \"sender\": \"john.smith@example.com\",\n",
    "    \"subject\": \"Question about your services\",\n",
    "    \"body\": \"Dear Mr. Hugg, I was referred to you by a colleague and I'm interested in learning more about your consulting services. Could we schedule a call next week? Best regards, John Smith\"\n",
    "}\n",
    "\n",
    "# Example spam email\n",
    "spam_email = {\n",
    "    \"sender\": \"winner@lottery-intl.com\",\n",
    "    \"subject\": \"YOU HAVE WON $5,000,000!!!\",\n",
    "    \"body\": \"CONGRATULATIONS! You have been selected as the winner of our international lottery! To claim your $5,000,000 prize, please send us your bank details and a processing fee of $100.\"\n",
    "}\n",
    "# Process the spam email\n",
    "spam_result = compiled_graph.invoke({\n",
    "    \"email\": legitimate_email,\n",
    "    \"is_spam\": None,\n",
    "    \"spam_reason\": None,\n",
    "    \"email_category\": None,\n",
    "    \"email_draft\": None,\n",
    "    \"messages\": []\n",
    "})"
   ]
  },
  {
   "cell_type": "code",
   "execution_count": 45,
   "id": "3ae2df2b",
   "metadata": {},
   "outputs": [
    {
     "name": "stdout",
     "output_type": "stream",
     "text": [
      "{'role': 'user', 'content': \"\\n    As Alfred the butler, analyze this email and determine if it is spam or legitimate.\\n\\n    Email:\\n    From: john.smith@example.com\\n    Subject: Question about your services\\n    Body: Dear Mr. Hugg, I was referred to you by a colleague and I'm interested in learning more about your consulting services. Could we schedule a call next week? Best regards, John Smith\\n\\n    First, determine if this email is spam. If it is spam, explain why.\\n    If it is legitimate, categorize it (inquiry, complaint, thank you, etc.).\\n    \"}\n",
      "{'role': 'assistant', 'content': 'A most intriguing email, sir! As Alfred the butler, I shall analyze it with utmost care and attention to detail.\\n\\nUpon initial inspection, I notice that the sender\\'s email address appears to be a legitimate one, as it follows the standard format of a professional email address (john.smith@example.com). The subject line is also straightforward and informative, suggesting that the email may indeed be related to a genuine inquiry.\\n\\nMoving on to the body of the email, I observe that the tone is polite and courteous, with a clear expression of interest in the recipient\\'s consulting services. The language used is professional and free of any suspicious or promotional undertones. Furthermore, the sender has taken the time to address the recipient by their title (Mr. Hugg), which suggests a level of formality and respect.\\n\\nConsidering these factors, I conclude that this email is not spam. It appears to be a genuine inquiry from someone who has been referred to the recipient\\'s services by a colleague.\\n\\nIn terms of categorization, I would classify this email as an \"inquiry\" or \"request for information.\" The sender is seeking to learn more about the consulting services and schedule a call to discuss further.'}\n",
      "{'role': 'user', 'content': \"\\n    As Alfred the butler, draft a polite preliminary response to this email.\\n\\n    Email:\\n    From: john.smith@example.com\\n    Subject: Question about your services\\n    Body: Dear Mr. Hugg, I was referred to you by a colleague and I'm interested in learning more about your consulting services. Could we schedule a call next week? Best regards, John Smith\\n\\n    This email has been categorized as: inquiry\\n\\n    Draft a brief, professional response that Mr. Hugg can review and personalize before sending.\\n    \"}\n",
      "{'role': 'assistant', 'content': \"Here's a polite preliminary response:\\n\\nDear Mr. Smith,\\n\\nThank you for considering my consulting services. I appreciate the referral from your colleague and would be delighted to discuss how I can assist you.\\n\\nI'd be happy to schedule a call at your convenience next week. Please let me know which day and time work best for you, and I'll make sure to adjust my schedule accordingly.\\n\\nIn preparation for our conversation, could you kindly provide me with some information about the specific challenges or areas of interest you'd like to explore? This will enable me to tailor our discussion and ensure we make the most of our time together.\\n\\nI look forward to speaking with you soon.\\n\\nBest regards,\\nAlfred Hugg\"}\n"
     ]
    }
   ],
   "source": [
    "for m in spam_result[\"messages\"]:\n",
    "    print(m)"
   ]
  },
  {
   "cell_type": "code",
   "execution_count": 81,
   "id": "d6e96443",
   "metadata": {},
   "outputs": [
    {
     "data": {
      "image/png": "[encoded data removed]",
      "text/plain": [
       "<IPython.core.display.Image object>"
      ]
     },
     "metadata": {},
     "output_type": "display_data"
    }
   ],
   "source": [
    "from IPython.display import Image, display\n",
    "\n",
    "# View\n",
    "display(Image(compiled_graph.get_graph().draw_mermaid_png()))"
   ]
  },
  {
   "cell_type": "markdown",
   "id": "32a26544",
   "metadata": {},
   "source": [
    "# Entities Extractor"
   ]
  },
  {
   "cell_type": "markdown",
   "id": "6e1f5de0",
   "metadata": {},
   "source": [
    "### Imports"
   ]
  },
  {
   "cell_type": "code",
   "execution_count": 10,
   "id": "762e3909",
   "metadata": {},
   "outputs": [],
   "source": [
    "from pydantic import BaseModel\n",
    "from typing import List, TypedDict, Annotated, Literal, Union, Dict, Any\n",
    "from langgraph.graph import START, StateGraph, END, add_messages\n",
    "from langgraph.prebuilt import ToolNode\n",
    "from langchain_core.tools import tool\n",
    "from langchain_core.messages import HumanMessage, SystemMessage, AnyMessage\n",
    "from langchain_ollama import ChatOllama\n",
    "from IPython.display import Image, display"
   ]
  },
  {
   "cell_type": "markdown",
   "id": "fcbbd995",
   "metadata": {},
   "source": [
    "### Model"
   ]
  },
  {
   "cell_type": "code",
   "execution_count": 29,
   "id": "38219c01",
   "metadata": {},
   "outputs": [],
   "source": [
    "model_name = \"llama3.2\"\n",
    "model = ChatOllama(model=model_name, temperature=0.0)"
   ]
  },
  {
   "cell_type": "markdown",
   "id": "34aaa79d",
   "metadata": {},
   "source": [
    "### State Graph"
   ]
  },
  {
   "cell_type": "code",
   "execution_count": 3,
   "id": "c1f2148d",
   "metadata": {},
   "outputs": [],
   "source": [
    "class EntitiesExtractorState(TypedDict):\n",
    "    messages: Annotated[List, add_messages]"
   ]
  },
  {
   "cell_type": "markdown",
   "id": "47350aca",
   "metadata": {},
   "source": [
    "### Tools"
   ]
  },
  {
   "cell_type": "code",
   "execution_count": 6,
   "id": "9fae2bc7",
   "metadata": {},
   "outputs": [],
   "source": [
    "ENTITIES = {\n",
    "    \"Driver\": {\n",
    "        \"desc\": \"Person who drives a car\",\n",
    "        \"value\": None\n",
    "    },\n",
    "    \"Location\": {\n",
    "        \"desc\": \"Where the event took place\",\n",
    "        \"value\": None\n",
    "    },\n",
    "    \"Event\": {\n",
    "        \"desc\": \"Type of event\",\n",
    "        \"value\": None\n",
    "    }\n",
    "}\n",
    "\n",
    "@tool\n",
    "def entity_value(entity_name: str, entity_value: str) -> Dict[str, str]:\n",
    "    \"\"\"\n",
    "    Function to indicate the value of a single entity.\n",
    "    Args:\n",
    "        entity_name (str): name of the entity to analyze.\n",
    "        entity_value (str): Value of the entity.\n",
    "    Returns:\n",
    "        (Dict): Python dictionary containing the info for the entity.\n",
    "    \"\"\"\n",
    "    return {entity_name: entity_value}\n",
    "\n",
    "@tool\n",
    "def extract_entities(text: str) -> Dict[str, Dict[str, str | int]]:\n",
    "    \"\"\"\n",
    "    Performs the extraction of the entities for a given text.\n",
    "\n",
    "    Args:\n",
    "        text (str): Text to be analyzed.\n",
    "    \n",
    "    Returns:\n",
    "        (Dict[str, Dict[str, str | int]]): Python dictionary containing the entities information extracted from the text.\n",
    "    \"\"\"\n",
    "    entities = ENTITIES\n",
    "    llm_with_tools = model.bind_tools([entity_value])\n",
    "    for entity, params in entities.items():\n",
    "        print(f\"Analyzing entity: {entity}\")\n",
    "        system_prompt = f\"\"\"You have to extract an entity from a text. If the entity is not present, consider its\n",
    "        value as 'None'\n",
    "\n",
    "        Entity name: {entity}\n",
    "        Entity description: {params[\"desc\"]}\n",
    "        \"\"\"\n",
    "        messages = [SystemMessage(content=system_prompt)] + [HumanMessage(content=text)]\n",
    "        response = llm_with_tools.invoke(messages)\n",
    "        params[\"value\"] = response.tool_calls[0][\"args\"][\"entity_value\"]\n",
    "    return entities\n",
    "\n",
    "@tool\n",
    "def provide_entities_values(driver: str, event: str, location: str) -> Dict:\n",
    "    \"\"\"\n",
    "    Indicates the entity extracted along with its corresponding value\n",
    "    Args:\n",
    "        driver (str): Driver of the racing car\n",
    "        event (str): Type of event\n",
    "        location (str): Location of the event\n",
    "    Returns:\n",
    "        (Dict[str, str]]: Python dictionary containing the entities as keys and its parameters as values\n",
    "    \"\"\"\n",
    "    return {\"Driver\": driver, \"Location\": location, \"Event\": event}\n"
   ]
  },
  {
   "cell_type": "markdown",
   "id": "065730c0",
   "metadata": {},
   "source": [
    "### Nodes"
   ]
  },
  {
   "cell_type": "code",
   "execution_count": 30,
   "id": "97df8e77",
   "metadata": {},
   "outputs": [],
   "source": [
    "llm_with_tools = model.bind_tools([extract_entities, provide_entities_values])"
   ]
  },
  {
   "cell_type": "code",
   "execution_count": 31,
   "id": "1fb8a331",
   "metadata": {},
   "outputs": [],
   "source": [
    "def assistant(state: EntitiesExtractorState):\n",
    "    prompt = \"\"\"You are a helpful assistant in charge of reviewing an entities extraction process.\n",
    "    Your labour is to check if there is any missing entity that could not be extracted from the text, if that is the case, just\n",
    "    request those entities to the user directly. \n",
    "    **Note**: Missing entities are identified with a 'None' value.\n",
    "    Do not add any entity more apart from the ones that the tools indicate.\n",
    "    The steps to success would be as follows:\n",
    "    1) Once you have the text to be analyzed, call 'extract_entities' tool\n",
    "    2) Verify there is not any missing entity (identified with 'None' value). If there is any missing entity, request it\n",
    "    to the user directly.\n",
    "    3) Once you have all the entities, call 'provide_entities_values' tool to provide final result.\n",
    "    \"\"\"\n",
    "    messages = [dict(role=\"system\", content=prompt)] + state[\"messages\"]\n",
    "    response = llm_with_tools.invoke(messages)\n",
    "    output = {\n",
    "        \"messages\": response\n",
    "    }\n",
    "    return output"
   ]
  },
  {
   "cell_type": "markdown",
   "id": "77a70a6f",
   "metadata": {},
   "source": [
    "### Graph"
   ]
  },
  {
   "cell_type": "code",
   "execution_count": 32,
   "id": "c6b66792",
   "metadata": {},
   "outputs": [],
   "source": [
    "def tools_condition(\n",
    "    state: Union[list[AnyMessage], dict[str, Any], BaseModel],\n",
    "    messages_key: str = \"messages\",\n",
    ") -> Literal[\"tools\", \"__end__\", \"final_tool\"]:\n",
    "    \n",
    "    if isinstance(state, list):\n",
    "        ai_message = state[-1]\n",
    "    elif isinstance(state, dict) and (messages := state.get(messages_key, [])):\n",
    "        ai_message = messages[-1]\n",
    "    elif messages := getattr(state, messages_key, []):\n",
    "        ai_message = messages[-1]\n",
    "    else:\n",
    "        raise ValueError(f\"No messages found in input state to tool_edge: {state}\")\n",
    "    if hasattr(ai_message, \"tool_calls\") and len(ai_message.tool_calls) > 0:\n",
    "        if ai_message.tool_calls[0][\"name\"] == \"provide_entities_values\":\n",
    "            return \"final_tool\"\n",
    "        else:\n",
    "            return \"tools\"\n",
    "    return \"__end__\""
   ]
  },
  {
   "cell_type": "code",
   "execution_count": 33,
   "id": "b3cb737c",
   "metadata": {},
   "outputs": [],
   "source": [
    "# Build the graph\n",
    "builder = StateGraph(EntitiesExtractorState)\n",
    "builder.add_node(\"assistant\", assistant)\n",
    "builder.add_node(\"tools\", ToolNode([extract_entities]))\n",
    "builder.add_node(\"final_tool\",ToolNode([provide_entities_values]))\n",
    "\n",
    "builder.add_edge(START, \"assistant\")\n",
    "builder.add_conditional_edges(\"assistant\", tools_condition)\n",
    "builder.add_edge(\"tools\", \"assistant\")\n",
    "builder.add_edge(\"final_tool\", END)\n",
    "# builder.add_edge(\"assistant\", END)\n",
    "\n",
    "react_graph = builder.compile()"
   ]
  },
  {
   "cell_type": "code",
   "execution_count": 34,
   "id": "e0215060",
   "metadata": {},
   "outputs": [
    {
     "data": {
      "image/png": "[encoded data removed]",
      "text/plain": [
       "<langgraph.graph.state.CompiledStateGraph object at 0x114565580>"
      ]
     },
     "execution_count": 34,
     "metadata": {},
     "output_type": "execute_result"
    }
   ],
   "source": [
    "react_graph"
   ]
  },
  {
   "cell_type": "markdown",
   "id": "db61902b",
   "metadata": {},
   "source": [
    "### Llama3.2"
   ]
  },
  {
   "cell_type": "code",
   "execution_count": 151,
   "id": "7c6417b7",
   "metadata": {},
   "outputs": [
    {
     "name": "stdout",
     "output_type": "stream",
     "text": [
      "Analyzing entity: Driver\n",
      "Analyzing entity: Location\n",
      "Analyzing entity: Event\n",
      "It looks like there are some missing entities in the text. The driver, location, and type of event are not extracted.\n",
      "\n",
      "Can you please provide more information about these missing entities? Specifically:\n",
      "\n",
      "* Who is the driver?\n",
      "* Where did the event take place?\n",
      "* What was the type of event?\n",
      "\n",
      "I'll wait for your response before proceeding with the analysis.\n"
     ]
    }
   ],
   "source": [
    "text = \"Yesterday I saw Fernando Alonso in Sevilla during the racing car\"\n",
    "text = \"Hi\"\n",
    "graph_res = react_graph.invoke({\"messages\": [HumanMessage(content=text)]})\n",
    "print(graph_res[\"messages\"][-1].content)"
   ]
  },
  {
   "cell_type": "code",
   "execution_count": 145,
   "id": "1007fb47",
   "metadata": {},
   "outputs": [
    {
     "name": "stdout",
     "output_type": "stream",
     "text": [
      "================================\u001b[1m Human Message \u001b[0m=================================\n",
      "\n",
      "Yesterday I saw Fernando Alonso in Sevilla during the racing car\n",
      "==================================\u001b[1m Ai Message \u001b[0m==================================\n",
      "Tool Calls:\n",
      "  extract_entities (d3cbe946-a14e-41f4-8e25-29be27bb5655)\n",
      " Call ID: d3cbe946-a14e-41f4-8e25-29be27bb5655\n",
      "  Args:\n",
      "    text: Yesterday I saw Fernando Alonso in Sevilla during the racing car\n",
      "=================================\u001b[1m Tool Message \u001b[0m=================================\n",
      "Name: extract_entities\n",
      "\n",
      "{\"Driver\": {\"desc\": \"Person who drives a car\", \"value\": \"Fernando Alonso\"}, \"Location\": {\"desc\": \"Where the event took place\", \"value\": \"Sevilla\"}, \"Event\": {\"desc\": \"Type of event\", \"value\": \"None\"}}\n",
      "==================================\u001b[1m Ai Message \u001b[0m==================================\n",
      "\n",
      "It looks like there is a missing entity 'Event'. Can you please tell me what type of racing car Fernando Alonso was driving? \n",
      "\n",
      "(I'll wait for your response before proceeding)\n",
      "================================\u001b[1m Human Message \u001b[0m=================================\n",
      "\n",
      "The event was a racing car\n",
      "==================================\u001b[1m Ai Message \u001b[0m==================================\n",
      "Tool Calls:\n",
      "  provide_entities_values (8a3ebd43-27a3-4fbb-a81a-a506b0e3f252)\n",
      " Call ID: 8a3ebd43-27a3-4fbb-a81a-a506b0e3f252\n",
      "  Args:\n",
      "    driver: Fernando Alonso\n",
      "    event: racing car\n",
      "    location: Sevilla\n",
      "=================================\u001b[1m Tool Message \u001b[0m=================================\n",
      "Name: provide_entities_values\n",
      "\n",
      "{\"Driver\": \"Fernando Alonso\", \"Location\": \"Sevilla\", \"Event\": \"racing car\"}\n"
     ]
    }
   ],
   "source": [
    "for m in graph_res[\"messages\"]:\n",
    "    m.pretty_print()"
   ]
  },
  {
   "cell_type": "code",
   "execution_count": 144,
   "id": "ec53c92a",
   "metadata": {},
   "outputs": [
    {
     "name": "stdout",
     "output_type": "stream",
     "text": [
      "{\"Driver\": \"Fernando Alonso\", \"Location\": \"Sevilla\", \"Event\": \"racing car\"}\n"
     ]
    }
   ],
   "source": [
    "graph_res = react_graph.invoke(\n",
    "    {\"messages\": \n",
    "     graph_res[\"messages\"] + [HumanMessage(content=\"The event was a racing car\")\n",
    "]})\n",
    "print(graph_res[\"messages\"][-1].content)"
   ]
  },
  {
   "cell_type": "code",
   "execution_count": 150,
   "id": "97a75224",
   "metadata": {},
   "outputs": [
    {
     "data": {
      "text/plain": [
       "{'Driver': 'Fernando Alonso', 'Location': 'Sevilla', 'Event': 'racing car'}"
      ]
     },
     "execution_count": 150,
     "metadata": {},
     "output_type": "execute_result"
    }
   ],
   "source": [
    "eval(graph_res[\"messages\"][-1].content)"
   ]
  },
  {
   "cell_type": "markdown",
   "id": "1fc6ee78",
   "metadata": {},
   "source": [
    "### Mistral"
   ]
  },
  {
   "cell_type": "code",
   "execution_count": 25,
   "id": "3003b77b",
   "metadata": {},
   "outputs": [
    {
     "name": "stdout",
     "output_type": "stream",
     "text": [
      " Here are the steps:\n",
      "\n",
      "1) Extracting Entities:\n",
      "```python\n",
      "result = extract_entities(text=\"Yesterday I saw Fernando Alonso in Sevilla during the racing car\")\n",
      "```\n",
      "\n",
      "2) Verifying Missing Entities:\n",
      "```python\n",
      "missing_entities = [entity for entity, value in result.items() if value is None]\n",
      "if len(missing_entities) > 0:\n",
      "    print(\"Please provide the following missing entities:\", \", \".join(missing_entities))\n",
      "else:\n",
      "    # All entities are present, proceed to step 3\n",
      "    pass\n",
      "```\n",
      "\n",
      "3) Providing Entities Values:\n",
      "```python\n",
      "if len(missing_entities) > 0:\n",
      "    user_input = input(\"Driver: \").strip()\n",
      "    event_type = \"Racing Car Event\"\n",
      "    location = \"Sevilla\"\n",
      "else:\n",
      "    user_input = None\n",
      "    event_type = result[\"event_type\"] if \"event_type\" in result else None\n",
      "    location = result[\"location\"] if \"location\" in result else None\n",
      "\n",
      "final_result = provide_entities_values(driver=user_input, event=event_type, location=location)\n",
      "```\n"
     ]
    }
   ],
   "source": [
    "text = \"Yesterday I saw Fernando Alonso in Sevilla during the racing car\"\n",
    "graph_res = react_graph.invoke({\"messages\": [HumanMessage(content=text)]})\n",
    "print(graph_res[\"messages\"][-1].content)"
   ]
  },
  {
   "cell_type": "code",
   "execution_count": 27,
   "id": "b364912c",
   "metadata": {},
   "outputs": [
    {
     "name": "stdout",
     "output_type": "stream",
     "text": [
      "================================\u001b[1m Human Message \u001b[0m=================================\n",
      "\n",
      "Yesterday I saw Fernando Alonso in Sevilla during the racing car\n",
      "==================================\u001b[1m Ai Message \u001b[0m==================================\n",
      "\n",
      " Here are the steps:\n",
      "\n",
      "1) Extracting Entities:\n",
      "```python\n",
      "result = extract_entities(text=\"Yesterday I saw Fernando Alonso in Sevilla during the racing car\")\n",
      "```\n",
      "\n",
      "2) Verifying Missing Entities:\n",
      "```python\n",
      "missing_entities = [entity for entity, value in result.items() if value is None]\n",
      "if len(missing_entities) > 0:\n",
      "    print(\"Please provide the following missing entities:\", \", \".join(missing_entities))\n",
      "else:\n",
      "    # All entities are present, proceed to step 3\n",
      "    pass\n",
      "```\n",
      "\n",
      "3) Providing Entities Values:\n",
      "```python\n",
      "if len(missing_entities) > 0:\n",
      "    user_input = input(\"Driver: \").strip()\n",
      "    event_type = \"Racing Car Event\"\n",
      "    location = \"Sevilla\"\n",
      "else:\n",
      "    user_input = None\n",
      "    event_type = result[\"event_type\"] if \"event_type\" in result else None\n",
      "    location = result[\"location\"] if \"location\" in result else None\n",
      "\n",
      "final_result = provide_entities_values(driver=user_input, event=event_type, location=location)\n",
      "```\n"
     ]
    }
   ],
   "source": [
    "for m in graph_res[\"messages\"]:\n",
    "    m.pretty_print()"
   ]
  },
  {
   "cell_type": "code",
   "execution_count": 28,
   "id": "8351f602",
   "metadata": {},
   "outputs": [
    {
     "name": "stdout",
     "output_type": "stream",
     "text": [
      " Sure! Here are the steps:\n",
      "\n",
      "1) Extracting Entities:\n",
      "```bash\n",
      "result=$(extract_entities \"Yesterday I saw Fernando Alonso in Sevilla during the racing car\")\n",
      "```\n",
      "\n",
      "2) Verifying Missing Entities:\n",
      "```bash\n",
      "missing_entities=$(echo \"$result\" | jq -r '.[] | select(.value == null)' | tr ',' '\\n' | paste -sd ', ')\n",
      "if [ ! -z \"$missing_entities\" ]; then\n",
      "    read -p \"Please provide the following missing entities: $missing_entities:\" user_input\n",
      "else\n",
      "    user_input=\"\"\n",
      "fi\n",
      "```\n",
      "\n",
      "3) Providing Entities Values:\n",
      "```bash\n",
      "final_result=$(provide_entities_values driver=$(echo \"$user_input\" | awk '{print $1}') event=$(echo \"$result\" | jq -r '.[] | select(.key == \"event_type\") | .value' | tr -d '\"') location=$(echo \"$result\" | jq -r '.[] | select(.key == \"location\") | .value' | tr -d '\"'))\n",
      "```\n"
     ]
    }
   ],
   "source": [
    "graph_res = react_graph.invoke(\n",
    "    {\"messages\": \n",
    "     graph_res[\"messages\"] + [HumanMessage(content=\"But can you call your tools instead of writing python code?\")\n",
    "]})\n",
    "print(graph_res[\"messages\"][-1].content)"
   ]
  },
  {
   "cell_type": "code",
   "execution_count": null,
   "id": "711bd987",
   "metadata": {},
   "outputs": [],
   "source": []
  }
 ],
 "metadata": {
  "kernelspec": {
   "display_name": "secretllm_venv",
   "language": "python",
   "name": "python3"
  },
  "language_info": {
   "codemirror_mode": {
    "name": "ipython",
    "version": 3
   },
   "file_extension": ".py",
   "mimetype": "text/x-python",
   "name": "python",
   "nbconvert_exporter": "python",
   "pygments_lexer": "ipython3",
   "version": "3.12.6"
  }
 },
 "nbformat": 4,
 "nbformat_minor": 5
}
